{
 "cells": [
  {
   "cell_type": "markdown",
   "metadata": {},
   "source": [
    "# State Machines in Python - Part 2\n",
    "\n",
    "In this part, we have a closer look at a (simple) user interface to control our state machine, and discover more features of STMPY."
   ]
  },
  {
   "cell_type": "code",
   "execution_count": 1,
   "metadata": {},
   "outputs": [],
   "source": [
    "from stmpy import Machine, Driver\n",
    "\n",
    "import ipywidgets as widgets\n",
    "from IPython.display import display\n"
   ]
  },
  {
   "cell_type": "markdown",
   "metadata": {},
   "source": [
    "<img src=\"data:image/png;base64,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\" style=\"max-width:100%;\" />"
   ]
  },
  {
   "cell_type": "markdown",
   "metadata": {},
   "source": [
    "## Signal Light\n",
    "\n",
    "We create a blinking light. As basis, we use the code below that offers a simple user interface in Python Notebooks. \n",
    "\n",
    "Have a look at the class below. It displays an image and two buttons. In addition, it prepares the action we need for the state machine."
   ]
  },
  {
   "cell_type": "code",
   "execution_count": 2,
   "metadata": {},
   "outputs": [],
   "source": [
    "class SignalLight:\n",
    "    \n",
    "    def on_button_switch(self, b):\n",
    "        self.stm.send_signal('switch') # <---- here we send a signal\n",
    "        \n",
    "    def on_button_terminate(self, b):\n",
    "        self.stm.driver.stop() # <---- here we stop the driver\n",
    "    \n",
    "    def __init__(self):\n",
    "        # load images and store them\n",
    "        self.yellow_on = open(\"images/yellow_on.png\", \"rb\").read()\n",
    "        self.yellow_off = open(\"images/yellow_off.png\", \"rb\").read()\n",
    "        \n",
    "        # display the user interface\n",
    "        # a button\n",
    "        self.button_switch = widgets.Button(description=\"Send Signal 'switch'\")\n",
    "        self.button_switch.on_click(self.on_button_switch)\n",
    "        # another button\n",
    "        self.button_terminate = widgets.Button(description=\"Stop the Driver\")\n",
    "        self.button_terminate.on_click(self.on_button_terminate)\n",
    "        # an image of a yellow light\n",
    "        self.yellow = widgets.Image(value=self.yellow_off, format='png', width=50, height=50)\n",
    "        # display everything\n",
    "        display(self.yellow, self.button_switch, self.button_terminate)\n",
    "        \n",
    "    def turn_yellow_on(self):\n",
    "        # switch on the yellow light\n",
    "        self.yellow.set_trait(name='value', value=self.yellow_on)\n",
    "        \n",
    "    def turn_yellow_off(self):\n",
    "        # switch off the yellow light\n",
    "        self.yellow.set_trait(name='value', value=self.yellow_off)\n",
    "        \n",
    "    def start_timer(self):\n",
    "        # start the timer\n",
    "        self.stm.start_timer('t', 1000)\n",
    "        \n",
    "        "
   ]
  },
  {
   "cell_type": "markdown",
   "metadata": {},
   "source": [
    "We declare the state machine using three transitions. As you can see, the effects on the transitions can refer to several methods, separated with a `;`.\n",
    "\n",
    "Run the cell below. You should see a blinking light. It stops when you click on the `Stop the Driver` button. To restart it, just run the cell again."
   ]
  },
  {
   "cell_type": "code",
   "execution_count": 3,
   "metadata": {},
   "outputs": [
    {
     "data": {
      "application/vnd.jupyter.widget-view+json": {
       "model_id": "52420fd9c7e94ba7ab6368eeb9da6cf9",
       "version_major": 2,
       "version_minor": 0
      },
      "text/html": [
       "<p>Failed to display Jupyter Widget of type <code>Image</code>.</p>\n",
       "<p>\n",
       "  If you're reading this message in the Jupyter Notebook or JupyterLab Notebook, it may mean\n",
       "  that the widgets JavaScript is still loading. If this message persists, it\n",
       "  likely means that the widgets JavaScript library is either not installed or\n",
       "  not enabled. See the <a href=\"https://ipywidgets.readthedocs.io/en/stable/user_install.html\">Jupyter\n",
       "  Widgets Documentation</a> for setup instructions.\n",
       "</p>\n",
       "<p>\n",
       "  If you're reading this message in another frontend (for example, a static\n",
       "  rendering on GitHub or <a href=\"https://nbviewer.jupyter.org/\">NBViewer</a>),\n",
       "  it may mean that your frontend doesn't currently support widgets.\n",
       "</p>\n"
      ],
      "text/plain": [
       "Image(value=b'\\x89PNG\\r\\n\\x1a\\n\\x00\\x00\\x00\\rIHDR\\x00\\x00\\x00P\\x00\\x00\\x00P\\x08\\x02\\x00\\x00\\x00\\x01se\\xfa\\x00\\x00\\x00\\x01sRGB\\x00\\xae\\xce\\x1c\\xe9\\x00\\x00\\x00\\tpHYs\\x00\\x00\\x04\\x9d\\x00\\x00\\x04\\x9d\\x01|4k\\xa1\\x00\\x00\\x02\\x0biTXtXML:com.adobe.xmp\\x00\\x00\\x00\\x00\\x00<x:xmpmeta xmlns:x=\"adobe:ns:meta/\" x:xmptk=\"XMP Core 5.4.0\">\\n   <rdf:RDF xmlns:rdf=\"http://www.w3.org/1999/02/22-rdf-syntax-ns#\">\\n      <rdf:Description rdf:about=\"\"\\n            xmlns:tiff=\"http://ns.adobe.com/tiff/1.0/\">\\n         <tiff:ResolutionUnit>2</tiff:ResolutionUnit>\\n         <tiff:Compression>5</tiff:Compression>\\n         <tiff:Orientation>1</tiff:Orientation>\\n         <tiff:PhotometricInterpretation>2</tiff:PhotometricInterpretation>\\n      </rdf:Description>\\n   </rdf:RDF>\\n</x:xmpmeta>\\n\\x86\\xd2\\xae$\\x00\\x00\\x04\\x00IDATx\\x01\\xedZ]o\\xd40\\x10\\x8c\\xed\\x84V\\xb4\\x02\\x84\\xa0\\x05\\x01\\x12\\xe2\\x91\\xd7\\xfb\\xff\\xff\\x83\\xa7\\x16\\t\\x84J\\x11\\x15\\x05\\x818\\xeel3\\xe7TQ\\xd4\\xdcAfm\\xe7\\x9a\\xbb\\xdc\\x0b\\xa9\\xd9\\xf5\\xccx\\x13\\x7f\\xed\\xaa\\xd9lV\\xec\\xd3O\\xef\\x93\\xd8\\x95\\xd6I\\xf0\\xaeG|\\x8a\\xf0\\x14\\xe1\\x1d\\x1b\\x81\\xe9\\x95\\xde\\xb1\\x80v\\xe4L\\x11\\xee\\x0c\\xc9\\x8e5L\\x11\\xde\\xb1\\x80v\\xe4L\\x11\\xee\\x0c\\xc9\\x8e5\\x94\\x83\\xe8qJ\\xfd\\xd2\\xea\\xa7R\\xbf\\x95\\x9a\\xab\\xc2\\x16\\xca\\xaep\\xbd\\xf1\\x85\\xf1\\xfe\\xc0\\xfbC\\xe7\\x8f\\xbc\\xbf?\\xc0a&\\xab`\\xa7\\xf57\\xa3\\xaf\\xb4\\xfa\\xae\\x94_3\\xb2\\xaan\\xfbQ\\xff\\xe3\\xbdr\\xfe\\x81u\\x8f\\x9d{\\x94Oy&\\xc1\\x8b\\xd2\\\\\\x1a\\xfdE\\xd5\\x91\\\\\\xa3uM\\x13\\x06\\xc5\\xa8k\\xa3\\xaf\\xbd7\\xd6=]\\xda\\x93\\xa2\\xa8\\xd6\\xd8\\xc55%\\x17\\xec\\x8c\\xfe\\\\\\x9a\\x0b\\xa5\\x9c\\x98\\x18\\x86\\t=\\x18}\\xb9\\xb4\\xcf\\xac;M\\x1b\\xed\\x94\\x82\\xf1\\xa1V\\xe5\\x99Vs\\xb1\\xd4\\xb6#\\x86\\xac*?\\x19\\xffu\\xb1|\\x13>\\xef\\xf6\\x7f\\xca\\x9f\\x93-K\\x08\\xc8\\xbd\\xf2]*\\xb5\\x8d t\\x88n\\xd1y\\xd3\\x12\\xf9\\x90$\\xc2\\xbe4\\x1f\\xf1\\xd1FR\\xd9\\xe4\\x8eo\\xbb*?(;_\\xda\\x97Eq3\\xd1m2\\xfeo{|\\x84}e\\xde\\xe7S\\xdb\\x08\\x00\\x04\\x80\\xb0\\x945-\\xb2\\x87X\\xc1\\x88\\xad1W2l\\xd6\\x0b@\\x80c\\xbdn\\xd9G\\t\\xc6\\xa75@l\\xdb\\x8c\\x01\\x17\\xf9=\\xcb\\x05cN\\x8e\\x1f\\xef\\xb6\\x98\\x9e\\xcf\\x00\\x05tO\\xe3\\xae\\x99X0\\xd6\\x8c\\xb3\\xf5\\xfb\\xa7.H\\xd2\\x960\\x87\\x9d\\x15\\x85p\\x9d\\x17\\n\\xc6\\xee\"\\xf9\\n\\xd4\\x7fX\\x00\\r\\x02\\xfd\\xed\\xdb\\x962\\xc1\\xd89^\\xb4{\\x19\\xfe9\\x10X\\x08p%\\x821s\\xc4\\xec\\x1c\\x05,\\xbb.  \\x9b/\\x05\\x82-N\\x05]\\x06\\xc3\\xb7\\x04\\x1a\\xe1\\x98\\xc9`\\xd3\\x82\\xb5\\xbe\\xa6\\xce@\\x0c\\x19\\xce\\x164@\\x86\\xf3\\x11\\x1cDp\\xbee1\\xf2\\xd9\\x0b\\xc8\\xb0\\x11v8\\xcd\\xe7\\x13\\xc0\\xf6\\x1c\\xc8p\\xeb\\x13\\'\\x18+\\xfeV\\xd6\\xdeM\\x03\\x012\\xec&\\x84\\x13\\x8c{\\xa9M\\xd8\\xdbjg)q\\x82q\\x0b\\xb7-a\\x9bpYJ\\xac\\xe04\\xb7\\x19\\x9b\\xd8\\x0b\\xdaq\\rJy\\x91\\x82q\\xc3z\\xc7~\\xabK_\\xe6\\xc7\\t\\xbe\\xb9Of\\x00\\xb2\\xdb2\\x17\\xa3 C\\n\\xceN?;\\x00)\\xd8\\x9b\\xec\\x8cX\\x00\\x92\\x12\\'\\x18\\x99\\x11\\x96On{\\x96\\x12)\\xd8\\x1f\\xe4\\x16\\xc0\\xf6\\x8f\\xd4\\x14\\xe5\\xc2\\n>\\xa4z\\x1f\\xc0\\x18\\x898\\n\\x85\\x13\\x8c\\x1c\\x1f\\xd5\\xfb\\x00\\xc6,%N0R\\x1e\\xc8\\xf1\\r \\xa3\\'\\x04\\xc8\\xb0Y\\x18N0\\x961d4{\\xb2\\x19\\xc0,\\x90\\xe1$p\\xd6\\xd0\\x80\\xfc\\xed\\x00JzB\\x08\\xc8\\xd0\\x82\\x9d{\\x88\\xfcmOBY\\xcd@#\\xa4\\xce9\\x10ZpQ\\xac\\xb2\\xd5\\x1cH\\x1e\\xeb@\\x83\\xe6O;\\x80<r\\xf3\\xdeK\\x1c\\x13\\n\\x07\\x81P\"@w)\\xe3]!7OC%u\\x08\\x04$\\x05\\x112\\xc1\\x98\\xbaN\\x1d\\xb9\\xc5I\\xa8\\x17\\xd0\\xa1\\x14B\\xd2\\xa5P0\\xd6\\xa7P\\x89\\xb0\\x855\\x19k/\\xa0\\xc5\\xe7<\\xb1\\xe0\\x02+~H\\xc9K\\x869\\xc6\\x07\\xa0\\xecf\\xa3\\r\\'\\x17\\x8c^\\xac;\\x91\\xcd\\x1cm\\x06\\xd43\\xe0\\x00J\\xb9\\xdc2\\x8e\\x12\\x8c\\xbe0\\xde\\xd6\\x0e\\xb4\\x15\\x01P\\xfc;\\x15+\\x18U&\\x0b\\xfbz\\x808\\x03\\x02@\\xf1E-I\\xaax\\xd4\\xd2\\xbe\\xc2\\xb94\\xe4\\xe6c\\x8bNn\\xbd\\x81\\xf8\\x13\\xb3\\xd4\\xea=\\x8a{\\x93\\x9bn\\x93\\x08^\\xf5\\x06B8\\xa9U\\xe5y\\xdaD9V\\xa0\\xb4\\x85i\\xc9\\x04\\x87P\\x1c\\xfdY\\xbc\\x8d/=\\xac\\xa3\\x11\\xf6Rw\\xbb\\xf40\\x10\\xd5\\xd6=\\xb7\\xeeI(\\xb7\\xe1\\x8aKk\\x9da\\xe0\\xc6T\\\\Z\\xd3\\xc6\\xde\\xf3\\x05v\\x7f\\xc8\\xdf\\xfe\\xab|\\xb8\\x91\\x18\\x1e\\xf0\\xad\\x8e\\xb7|\\xb8\\x96\\x82\\xe3\\x1b\\x8a\\x9f\\xb1h\\xedK\\x81x\\x13A\\xed\\xfd\\xb1\\xf5\\xc7\\xcd\\xdf[|\\x88_\\x87\\xb7H^\\x02=\\t\\x96\\x8c\\xda\\x98|\\xa6\\x08\\x8f)Z\\x12\\xaeS\\x84%\\xa36&\\x9f)\\xc2c\\x8a\\x96\\x84\\xeb\\x14a\\xc9\\xa8\\x8d\\xc9g\\x8a\\xf0\\x98\\xa2%\\xe1\\xbaw\\x11\\xfe\\x0briUk#\\x99_j\\x00\\x00\\x00\\x00IEND\\xaeB`\\x82', height='50', width='50')"
      ]
     },
     "metadata": {},
     "output_type": "display_data"
    },
    {
     "data": {
      "application/vnd.jupyter.widget-view+json": {
       "model_id": "e8d72430ae2b44c48e7c7ca5b2c242e9",
       "version_major": 2,
       "version_minor": 0
      },
      "text/html": [
       "<p>Failed to display Jupyter Widget of type <code>Button</code>.</p>\n",
       "<p>\n",
       "  If you're reading this message in the Jupyter Notebook or JupyterLab Notebook, it may mean\n",
       "  that the widgets JavaScript is still loading. If this message persists, it\n",
       "  likely means that the widgets JavaScript library is either not installed or\n",
       "  not enabled. See the <a href=\"https://ipywidgets.readthedocs.io/en/stable/user_install.html\">Jupyter\n",
       "  Widgets Documentation</a> for setup instructions.\n",
       "</p>\n",
       "<p>\n",
       "  If you're reading this message in another frontend (for example, a static\n",
       "  rendering on GitHub or <a href=\"https://nbviewer.jupyter.org/\">NBViewer</a>),\n",
       "  it may mean that your frontend doesn't currently support widgets.\n",
       "</p>\n"
      ],
      "text/plain": [
       "Button(description=\"Send Signal 'switch'\", style=ButtonStyle())"
      ]
     },
     "metadata": {},
     "output_type": "display_data"
    },
    {
     "data": {
      "application/vnd.jupyter.widget-view+json": {
       "model_id": "050819fbe73e47adb534f742ffed9e05",
       "version_major": 2,
       "version_minor": 0
      },
      "text/html": [
       "<p>Failed to display Jupyter Widget of type <code>Button</code>.</p>\n",
       "<p>\n",
       "  If you're reading this message in the Jupyter Notebook or JupyterLab Notebook, it may mean\n",
       "  that the widgets JavaScript is still loading. If this message persists, it\n",
       "  likely means that the widgets JavaScript library is either not installed or\n",
       "  not enabled. See the <a href=\"https://ipywidgets.readthedocs.io/en/stable/user_install.html\">Jupyter\n",
       "  Widgets Documentation</a> for setup instructions.\n",
       "</p>\n",
       "<p>\n",
       "  If you're reading this message in another frontend (for example, a static\n",
       "  rendering on GitHub or <a href=\"https://nbviewer.jupyter.org/\">NBViewer</a>),\n",
       "  it may mean that your frontend doesn't currently support widgets.\n",
       "</p>\n"
      ],
      "text/plain": [
       "Button(description='Stop the Driver', style=ButtonStyle())"
      ]
     },
     "metadata": {},
     "output_type": "display_data"
    }
   ],
   "source": [
    "signal = SignalLight()\n",
    "\n",
    "t0 = {'source': 'initial',\n",
    "      'effect': 'start_timer',\n",
    "      'target': 'off'}\n",
    "t1 = {'trigger':'t',\n",
    "      'source':'off',\n",
    "      'target':'on',\n",
    "      'effect':'turn_yellow_on; start_timer'}\n",
    "t2 = {'trigger':'t', \n",
    "      'source':'on', \n",
    "      'target':'off', \n",
    "      'effect':'turn_yellow_off; start_timer'}\n",
    "\n",
    "machine = Machine(name='signal', transitions=[t0, t1, t2], obj=signal)\n",
    "signal.stm = machine\n",
    "\n",
    "driver = Driver()\n",
    "driver.add_machine(machine)\n",
    "driver.start()\n",
    "\n"
   ]
  },
  {
   "cell_type": "markdown",
   "metadata": {},
   "source": [
    "## Sending Signals\n",
    "\n",
    "So far, the state machines were controlled by timers. We can also trigger the state machine by signals. The signals can come from different sources --- hardware, software interrrupts, received messages, or, as here, clicks on a user interfaces.\n",
    "\n",
    "The button `Send Signal switch` was not yet used in the example. Have a look again at the SignalLight class. When this button is pressed, a signal `switch` is sent to the state machine. (Actually, its driver.) We can usew this signal to trigger the transition, so we have a manual signal light.\n",
    "\n",
    "Execute the cell below. Nothing should happen, until you press the button `Send Signal switch`."
   ]
  },
  {
   "cell_type": "code",
   "execution_count": 4,
   "metadata": {},
   "outputs": [
    {
     "data": {
      "application/vnd.jupyter.widget-view+json": {
       "model_id": "2bef1f807646458aa81eb66f01c5f34c",
       "version_major": 2,
       "version_minor": 0
      },
      "text/html": [
       "<p>Failed to display Jupyter Widget of type <code>Image</code>.</p>\n",
       "<p>\n",
       "  If you're reading this message in the Jupyter Notebook or JupyterLab Notebook, it may mean\n",
       "  that the widgets JavaScript is still loading. If this message persists, it\n",
       "  likely means that the widgets JavaScript library is either not installed or\n",
       "  not enabled. See the <a href=\"https://ipywidgets.readthedocs.io/en/stable/user_install.html\">Jupyter\n",
       "  Widgets Documentation</a> for setup instructions.\n",
       "</p>\n",
       "<p>\n",
       "  If you're reading this message in another frontend (for example, a static\n",
       "  rendering on GitHub or <a href=\"https://nbviewer.jupyter.org/\">NBViewer</a>),\n",
       "  it may mean that your frontend doesn't currently support widgets.\n",
       "</p>\n"
      ],
      "text/plain": [
       "Image(value=b'\\x89PNG\\r\\n\\x1a\\n\\x00\\x00\\x00\\rIHDR\\x00\\x00\\x00P\\x00\\x00\\x00P\\x08\\x02\\x00\\x00\\x00\\x01se\\xfa\\x00\\x00\\x00\\x01sRGB\\x00\\xae\\xce\\x1c\\xe9\\x00\\x00\\x00\\tpHYs\\x00\\x00\\x04\\x9d\\x00\\x00\\x04\\x9d\\x01|4k\\xa1\\x00\\x00\\x02\\x0biTXtXML:com.adobe.xmp\\x00\\x00\\x00\\x00\\x00<x:xmpmeta xmlns:x=\"adobe:ns:meta/\" x:xmptk=\"XMP Core 5.4.0\">\\n   <rdf:RDF xmlns:rdf=\"http://www.w3.org/1999/02/22-rdf-syntax-ns#\">\\n      <rdf:Description rdf:about=\"\"\\n            xmlns:tiff=\"http://ns.adobe.com/tiff/1.0/\">\\n         <tiff:ResolutionUnit>2</tiff:ResolutionUnit>\\n         <tiff:Compression>5</tiff:Compression>\\n         <tiff:Orientation>1</tiff:Orientation>\\n         <tiff:PhotometricInterpretation>2</tiff:PhotometricInterpretation>\\n      </rdf:Description>\\n   </rdf:RDF>\\n</x:xmpmeta>\\n\\x86\\xd2\\xae$\\x00\\x00\\x04\\x00IDATx\\x01\\xedZ]o\\xd40\\x10\\x8c\\xed\\x84V\\xb4\\x02\\x84\\xa0\\x05\\x01\\x12\\xe2\\x91\\xd7\\xfb\\xff\\xff\\x83\\xa7\\x16\\t\\x84J\\x11\\x15\\x05\\x818\\xeel3\\xe7TQ\\xd4\\xdcAfm\\xe7\\x9a\\xbb\\xdc\\x0b\\xa9\\xd9\\xf5\\xccx\\x13\\x7f\\xed\\xaa\\xd9lV\\xec\\xd3O\\xef\\x93\\xd8\\x95\\xd6I\\xf0\\xaeG|\\x8a\\xf0\\x14\\xe1\\x1d\\x1b\\x81\\xe9\\x95\\xde\\xb1\\x80v\\xe4L\\x11\\xee\\x0c\\xc9\\x8e5L\\x11\\xde\\xb1\\x80v\\xe4L\\x11\\xee\\x0c\\xc9\\x8e5\\x94\\x83\\xe8qJ\\xfd\\xd2\\xea\\xa7R\\xbf\\x95\\x9a\\xab\\xc2\\x16\\xca\\xaep\\xbd\\xf1\\x85\\xf1\\xfe\\xc0\\xfbC\\xe7\\x8f\\xbc\\xbf?\\xc0a&\\xab`\\xa7\\xf57\\xa3\\xaf\\xb4\\xfa\\xae\\x94_3\\xb2\\xaan\\xfbQ\\xff\\xe3\\xbdr\\xfe\\x81u\\x8f\\x9d{\\x94Oy&\\xc1\\x8b\\xd2\\\\\\x1a\\xfdE\\xd5\\x91\\\\\\xa3uM\\x13\\x06\\xc5\\xa8k\\xa3\\xaf\\xbd7\\xd6=]\\xda\\x93\\xa2\\xa8\\xd6\\xd8\\xc55%\\x17\\xec\\x8c\\xfe\\\\\\x9a\\x0b\\xa5\\x9c\\x98\\x18\\x86\\t=\\x18}\\xb9\\xb4\\xcf\\xac;M\\x1b\\xed\\x94\\x82\\xf1\\xa1V\\xe5\\x99Vs\\xb1\\xd4\\xb6#\\x86\\xac*?\\x19\\xffu\\xb1|\\x13>\\xef\\xf6\\x7f\\xca\\x9f\\x93-K\\x08\\xc8\\xbd\\xf2]*\\xb5\\x8d t\\x88n\\xd1y\\xd3\\x12\\xf9\\x90$\\xc2\\xbe4\\x1f\\xf1\\xd1FR\\xd9\\xe4\\x8eo\\xbb*?(;_\\xda\\x97Eq3\\xd1m2\\xfeo{|\\x84}e\\xde\\xe7S\\xdb\\x08\\x00\\x04\\x80\\xb0\\x945-\\xb2\\x87X\\xc1\\x88\\xad1W2l\\xd6\\x0b@\\x80c\\xbdn\\xd9G\\t\\xc6\\xa75@l\\xdb\\x8c\\x01\\x17\\xf9=\\xcb\\x05cN\\x8e\\x1f\\xef\\xb6\\x98\\x9e\\xcf\\x00\\x05tO\\xe3\\xae\\x99X0\\xd6\\x8c\\xb3\\xf5\\xfb\\xa7.H\\xd2\\x960\\x87\\x9d\\x15\\x85p\\x9d\\x17\\n\\xc6\\xee\"\\xf9\\n\\xd4\\x7fX\\x00\\r\\x02\\xfd\\xed\\xdb\\x962\\xc1\\xd89^\\xb4{\\x19\\xfe9\\x10X\\x08p%\\x821s\\xc4\\xec\\x1c\\x05,\\xbb.  \\x9b/\\x05\\x82-N\\x05]\\x06\\xc3\\xb7\\x04\\x1a\\xe1\\x98\\xc9`\\xd3\\x82\\xb5\\xbe\\xa6\\xce@\\x0c\\x19\\xce\\x164@\\x86\\xf3\\x11\\x1cDp\\xbee1\\xf2\\xd9\\x0b\\xc8\\xb0\\x11v8\\xcd\\xe7\\x13\\xc0\\xf6\\x1c\\xc8p\\xeb\\x13\\'\\x18+\\xfeV\\xd6\\xdeM\\x03\\x012\\xec&\\x84\\x13\\x8c{\\xa9M\\xd8\\xdbjg)q\\x82q\\x0b\\xb7-a\\x9bpYJ\\xac\\xe04\\xb7\\x19\\x9b\\xd8\\x0b\\xdaq\\rJy\\x91\\x82q\\xc3z\\xc7~\\xabK_\\xe6\\xc7\\t\\xbe\\xb9Of\\x00\\xb2\\xdb2\\x17\\xa3 C\\n\\xceN?;\\x00)\\xd8\\x9b\\xec\\x8cX\\x00\\x92\\x12\\'\\x18\\x99\\x11\\x96On{\\x96\\x12)\\xd8\\x1f\\xe4\\x16\\xc0\\xf6\\x8f\\xd4\\x14\\xe5\\xc2\\n>\\xa4z\\x1f\\xc0\\x18\\x898\\n\\x85\\x13\\x8c\\x1c\\x1f\\xd5\\xfb\\x00\\xc6,%N0R\\x1e\\xc8\\xf1\\r \\xa3\\'\\x04\\xc8\\xb0Y\\x18N0\\x961d4{\\xb2\\x19\\xc0,\\x90\\xe1$p\\xd6\\xd0\\x80\\xfc\\xed\\x00JzB\\x08\\xc8\\xd0\\x82\\x9d{\\x88\\xfcmOBY\\xcd@#\\xa4\\xce9\\x10ZpQ\\xac\\xb2\\xd5\\x1cH\\x1e\\xeb@\\x83\\xe6O;\\x80<r\\xf3\\xdeK\\x1c\\x13\\n\\x07\\x81P\"@w)\\xe3]!7OC%u\\x08\\x04$\\x05\\x112\\xc1\\x98\\xbaN\\x1d\\xb9\\xc5I\\xa8\\x17\\xd0\\xa1\\x14B\\xd2\\xa5P0\\xd6\\xa7P\\x89\\xb0\\x855\\x19k/\\xa0\\xc5\\xe7<\\xb1\\xe0\\x02+~H\\xc9K\\x869\\xc6\\x07\\xa0\\xecf\\xa3\\r\\'\\x17\\x8c^\\xac;\\x91\\xcd\\x1cm\\x06\\xd43\\xe0\\x00J\\xb9\\xdc2\\x8e\\x12\\x8c\\xbe0\\xde\\xd6\\x0e\\xb4\\x15\\x01P\\xfc;\\x15+\\x18U&\\x0b\\xfbz\\x808\\x03\\x02@\\xf1E-I\\xaax\\xd4\\xd2\\xbe\\xc2\\xb94\\xe4\\xe6c\\x8bNn\\xbd\\x81\\xf8\\x13\\xb3\\xd4\\xea=\\x8a{\\x93\\x9bn\\x93\\x08^\\xf5\\x06B8\\xa9U\\xe5y\\xdaD9V\\xa0\\xb4\\x85i\\xc9\\x04\\x87P\\x1c\\xfdY\\xbc\\x8d/=\\xac\\xa3\\x11\\xf6Rw\\xbb\\xf40\\x10\\xd5\\xd6=\\xb7\\xeeI(\\xb7\\xe1\\x8aKk\\x9da\\xe0\\xc6T\\\\Z\\xd3\\xc6\\xde\\xf3\\x05v\\x7f\\xc8\\xdf\\xfe\\xab|\\xb8\\x91\\x18\\x1e\\xf0\\xad\\x8e\\xb7|\\xb8\\x96\\x82\\xe3\\x1b\\x8a\\x9f\\xb1h\\xedK\\x81x\\x13A\\xed\\xfd\\xb1\\xf5\\xc7\\xcd\\xdf[|\\x88_\\x87\\xb7H^\\x02=\\t\\x96\\x8c\\xda\\x98|\\xa6\\x08\\x8f)Z\\x12\\xaeS\\x84%\\xa36&\\x9f)\\xc2c\\x8a\\x96\\x84\\xeb\\x14a\\xc9\\xa8\\x8d\\xc9g\\x8a\\xf0\\x98\\xa2%\\xe1\\xbaw\\x11\\xfe\\x0briUk#\\x99_j\\x00\\x00\\x00\\x00IEND\\xaeB`\\x82', height='50', width='50')"
      ]
     },
     "metadata": {},
     "output_type": "display_data"
    },
    {
     "data": {
      "application/vnd.jupyter.widget-view+json": {
       "model_id": "cd8f406be2ed473da5112abcdb90b1c0",
       "version_major": 2,
       "version_minor": 0
      },
      "text/html": [
       "<p>Failed to display Jupyter Widget of type <code>Button</code>.</p>\n",
       "<p>\n",
       "  If you're reading this message in the Jupyter Notebook or JupyterLab Notebook, it may mean\n",
       "  that the widgets JavaScript is still loading. If this message persists, it\n",
       "  likely means that the widgets JavaScript library is either not installed or\n",
       "  not enabled. See the <a href=\"https://ipywidgets.readthedocs.io/en/stable/user_install.html\">Jupyter\n",
       "  Widgets Documentation</a> for setup instructions.\n",
       "</p>\n",
       "<p>\n",
       "  If you're reading this message in another frontend (for example, a static\n",
       "  rendering on GitHub or <a href=\"https://nbviewer.jupyter.org/\">NBViewer</a>),\n",
       "  it may mean that your frontend doesn't currently support widgets.\n",
       "</p>\n"
      ],
      "text/plain": [
       "Button(description=\"Send Signal 'switch'\", style=ButtonStyle())"
      ]
     },
     "metadata": {},
     "output_type": "display_data"
    },
    {
     "data": {
      "application/vnd.jupyter.widget-view+json": {
       "model_id": "bfd62856369846ae9a17d2e8506856a2",
       "version_major": 2,
       "version_minor": 0
      },
      "text/html": [
       "<p>Failed to display Jupyter Widget of type <code>Button</code>.</p>\n",
       "<p>\n",
       "  If you're reading this message in the Jupyter Notebook or JupyterLab Notebook, it may mean\n",
       "  that the widgets JavaScript is still loading. If this message persists, it\n",
       "  likely means that the widgets JavaScript library is either not installed or\n",
       "  not enabled. See the <a href=\"https://ipywidgets.readthedocs.io/en/stable/user_install.html\">Jupyter\n",
       "  Widgets Documentation</a> for setup instructions.\n",
       "</p>\n",
       "<p>\n",
       "  If you're reading this message in another frontend (for example, a static\n",
       "  rendering on GitHub or <a href=\"https://nbviewer.jupyter.org/\">NBViewer</a>),\n",
       "  it may mean that your frontend doesn't currently support widgets.\n",
       "</p>\n"
      ],
      "text/plain": [
       "Button(description='Stop the Driver', style=ButtonStyle())"
      ]
     },
     "metadata": {},
     "output_type": "display_data"
    }
   ],
   "source": [
    "signal_2 = SignalLight()\n",
    "\n",
    "t0 = {'source': 'initial',\n",
    "      'target': 'off'}\n",
    "t1 = {'trigger':'switch',\n",
    "      'source':'off',\n",
    "      'target':'on',\n",
    "      'effect':'turn_yellow_on'}\n",
    "t2 = {'trigger':'switch', \n",
    "      'source':'on', \n",
    "      'target':'off', \n",
    "      'effect':'turn_yellow_off'}\n",
    "\n",
    "machine_2 = Machine(name='signal_2', transitions=[t0, t1, t2], obj=signal_2)\n",
    "signal_2.stm = machine_2\n",
    "\n",
    "driver_2 = Driver()\n",
    "driver_2.add_machine(machine_2)\n",
    "driver_2.start()\n"
   ]
  },
  {
   "cell_type": "markdown",
   "metadata": {
    "collapsed": true
   },
   "source": [
    "If you press the `Stop the Driver` button, the driver will stop and your signals will not be forwarded to the state machine anymore. Restart the cell to start over again."
   ]
  },
  {
   "cell_type": "code",
   "execution_count": null,
   "metadata": {},
   "outputs": [],
   "source": []
  },
  {
   "cell_type": "code",
   "execution_count": null,
   "metadata": {},
   "outputs": [],
   "source": []
  }
 ],
 "metadata": {
  "kernelspec": {
   "display_name": "Python 3",
   "language": "python",
   "name": "python3"
  },
  "language_info": {
   "codemirror_mode": {
    "name": "ipython",
    "version": 3
   },
   "file_extension": ".py",
   "mimetype": "text/x-python",
   "name": "python",
   "nbconvert_exporter": "python",
   "pygments_lexer": "ipython3",
   "version": "3.6.4"
  }
 },
 "nbformat": 4,
 "nbformat_minor": 2
}
