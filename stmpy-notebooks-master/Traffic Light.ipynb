{
 "cells": [
  {
   "cell_type": "code",
   "execution_count": 1,
   "metadata": {},
   "outputs": [],
   "source": [
    "import ipywidgets as widgets\n",
    "from IPython.display import display\n",
    "from stmpy import Machine, Driver\n",
    "\n",
    "class TrafficLight:\n",
    "    \n",
    "    def load_images(self):\n",
    "        self.red_on = open(\"images/red_on.png\", \"rb\").read()\n",
    "        self.red_off = open(\"images/red_off.png\", \"rb\").read()\n",
    "        self.yellow_on = open(\"images/yellow_on.png\", \"rb\").read()\n",
    "        self.yellow_off = open(\"images/yellow_off.png\", \"rb\").read()\n",
    "        self.green_on = open(\"images/green_on.png\", \"rb\").read()\n",
    "        self.green_off = open(\"images/green_off.png\", \"rb\").read()\n",
    "        \n",
    "    def on_button_switch(self, b):\n",
    "        self.stm.send_signal('switch')\n",
    "        \n",
    "    def on_button_terminate(self, b):\n",
    "        self.stm.scheduler.stop()\n",
    "    \n",
    "    def display(self):\n",
    "        self.button_switch = widgets.Button(description=\"Switch\")\n",
    "        self.button_switch.on_click(self.on_button_switch)\n",
    "        self.button_terminate = widgets.Button(description=\"Terminate\")\n",
    "        self.button_terminate.on_click(self.on_button_terminate)\n",
    "        self.red = widgets.Image(value=self.red_off, format='png', width=50, height=50)\n",
    "        self.yellow = widgets.Image(value=self.yellow_off, format='png', width=50, height=50)\n",
    "        self.green = widgets.Image(value=self.green_off, format='png', width=50, height=50)\n",
    "        display(self.red, self.yellow, self.green, self.button_switch, self.button_terminate)\n",
    "        \n",
    "    def __init__(self):\n",
    "        self.load_images()\n",
    "        self.display()\n",
    "        \n",
    "    def turn_red_on(self):\n",
    "        self.red.set_trait(name='value', value=self.red_on)\n",
    "        \n",
    "    def turn_red_off(self):\n",
    "        self.red.set_trait(name='value', value=self.red_off)\n",
    "        \n",
    "    def turn_yellow_on(self):\n",
    "        self.yellow.set_trait(name='value', value=self.yellow_on)\n",
    "        \n",
    "    def turn_yellow_off(self):\n",
    "        self.yellow.set_trait(name='value', value=self.yellow_off)\n",
    "        \n",
    "    def turn_green_on(self):\n",
    "        self.green.set_trait(name='value', value=self.green_on)\n",
    "        \n",
    "    def turn_green_off(self):\n",
    "        self.green.set_trait(name='value', value=self.green_off)"
   ]
  },
  {
   "cell_type": "code",
   "execution_count": 2,
   "metadata": {},
   "outputs": [
    {
     "data": {
      "application/vnd.jupyter.widget-view+json": {
       "model_id": "4e01016acba94156b66403a62c3b0cdb",
       "version_major": 2,
       "version_minor": 0
      },
      "text/html": [
       "<p>Failed to display Jupyter Widget of type <code>Image</code>.</p>\n",
       "<p>\n",
       "  If you're reading this message in the Jupyter Notebook or JupyterLab Notebook, it may mean\n",
       "  that the widgets JavaScript is still loading. If this message persists, it\n",
       "  likely means that the widgets JavaScript library is either not installed or\n",
       "  not enabled. See the <a href=\"https://ipywidgets.readthedocs.io/en/stable/user_install.html\">Jupyter\n",
       "  Widgets Documentation</a> for setup instructions.\n",
       "</p>\n",
       "<p>\n",
       "  If you're reading this message in another frontend (for example, a static\n",
       "  rendering on GitHub or <a href=\"https://nbviewer.jupyter.org/\">NBViewer</a>),\n",
       "  it may mean that your frontend doesn't currently support widgets.\n",
       "</p>\n"
      ],
      "text/plain": [
       "Image(value=b'\\x89PNG\\r\\n\\x1a\\n\\x00\\x00\\x00\\rIHDR\\x00\\x00\\x00P\\x00\\x00\\x00O\\x08\\x02\\x00\\x00\\x00\\xf3\\xf3\\xd5\\xb4\\x00\\x00\\x00\\x01sRGB\\x00\\xae\\xce\\x1c\\xe9\\x00\\x00\\x00\\tpHYs\\x00\\x00\\x04\\x9d\\x00\\x00\\x04\\x9d\\x01|4k\\xa1\\x00\\x00\\x02\\x0biTXtXML:com.adobe.xmp\\x00\\x00\\x00\\x00\\x00<x:xmpmeta xmlns:x=\"adobe:ns:meta/\" x:xmptk=\"XMP Core 5.4.0\">\\n   <rdf:RDF xmlns:rdf=\"http://www.w3.org/1999/02/22-rdf-syntax-ns#\">\\n      <rdf:Description rdf:about=\"\"\\n            xmlns:tiff=\"http://ns.adobe.com/tiff/1.0/\">\\n         <tiff:ResolutionUnit>2</tiff:ResolutionUnit>\\n         <tiff:Compression>5</tiff:Compression>\\n         <tiff:Orientation>1</tiff:Orientation>\\n         <tiff:PhotometricInterpretation>2</tiff:PhotometricInterpretation>\\n      </rdf:Description>\\n   </rdf:RDF>\\n</x:xmpmeta>\\n\\x86\\xd2\\xae$\\x00\\x00\\x04`IDATx\\x01\\xed\\x9a{S\\xdaP\\x10\\xc5I \\x89\\x08\\x11\\x14d\\x10\\x1d\\xedk:\\xd3\\xbf\\xfd\\xfe\\x9f\\xa33\\x9d\\xbet\\xb4P\\x15\\x0b\\x86\\x10I \\xe9\\xa1T\\x06\\xa1\\x86\\xec\\xde{\\x85b\\x18\\x07\\xf3\\xd8\\xdds~w\\x13\\x12\\xc2\\xd5NOO3/\\xe9\\xa5\\xbf$\\xd81k\\n\\xbc\\xe9\\x1dO;\\x9cvx\\xc3F =\\xa47\\xac\\xa1\\x0b8i\\x87\\x17\\x86d\\xc36\\xa4\\x1d\\xde\\xb0\\x86.\\xe0\\xbc\\xb8\\x0e\\xe7\\x16\\x86@\\xed\\x06}4\\xca\\x85\\xa1\\x1e\\x8e \\x13\\xea\\xd9\\xa1\\xae\\x87\\xd9\\xacZ\\xc9\\xc7\\xd5\\x95\\x03\\x83p\\xa7\\xef\\xda}\\xb7\\xe0y[\\xfe\\xc0\\x18\\x8dQg_A6{oZn>\\xefl\\x17\\xee\\xb6\\x0b\\xaa\\xf9\\x95\\x01GQ\\xb9\\xe7T\\xba\\x1d\\xbc\\xebQ4K8\\xb7\\x8c!0\\xbc\\xbe\\xed\\xf5\\xeb\\xb7\\xedP\\xd3:E\\xbb]*\\xe3=\\xa3is\\x91RV\\x15\\x00GQ\\xb5\\xdb\\xa9\\xb7\\xaf\\xf3\\xbeO\\xb5\\x88\\xa1\\xd9s\\xee\\xf0\\xe7\\x99f\\xab\\xb2\\x7fS*K\\xc7\\xce6\\x1a\\r\\xaa\\xad\\x98\\xf8b\\xdf}wq^\\xeb\\xfcZ<tc\\xb2\\x16w!}\\xb7\\xe7\\x94\\x1d\\xc7\\xb3,\\xdf0\\x17\\x03\\xd8[\\xe4\\x01G\\xd1\\xe1\\xf5\\xcf\\xd7\\xcd\\x1f\\xe6h\\xc8v3\\x97\\x88R8X\\xb4(\\xc4\\xe9-\\xab\\xd5r\\x0e\\xe9\\xdcp\\x88\\xc6\\xe2<\\x9cs,\\xbe\\x8a\\xf3\\xb8\\xd1\\xbe\\xb1\\xfb\\xfd\\xcfG\\xc7\\xc3\\x9c\\x04\\xb7\\x12\\xae\\xc3\\xa6\\xef\\x7f8\\xfb\\xaa\\x82v:^(\\x0e\\t\\x08M\\xb7\\xb0\\x17D\\x81\\xcd \\x80\\x95-\\x19V\\xe2\\x19 1f\\x0e\\x82\\xf8\\xb0\\xa5{\\x85\\x80\\xb3\\xa3\\xe1\\xfb\\xf3\\xef\\xe6P\\xdaI\\x1bo\\x17B\\x90\\x83h|X\\xfc^\\x01\\xe0(z{y\\x91\\xf7\\x07\\xf1\\x02r\\xf7B\\x0e\\xa2\\x99\\xd8\\x0b{\\xbc\"\\x1f\\xb8~{Sr{\\xf1\\xd5U\\xec\\x85(\\xa4\\xd9\\x95\\x99\\xc0\\x96?8\\xbc\\xbab\\xab\\n&B\\x1a\\x06xE\\x98\\xc0\\'\\xad\\xa6\\x9e\\x89\\xbba\\xe4\\xb9I\\x98\\x05i\\x18H\\x18<\\x17\\xc6\\x01\\xb6\\xdd\\xdeJ\\x0e\\xe6Y\\xeb0`\\xbb\\xee\\xec\\x96\\x84\\xcb\\x1c\\xe0\\x836\\xff\\x14Jh+I\\xd8A\\xfb:I\\xd8\\\\\\x0c\\x19\\xd8\\x1a\\x0cV\\xde\\xde\\t\\x03l\\xc0\\xcc\\x1c\\xcf\\xd2U2p\\xe5\\xae\\xb3\\xb4\\xe8\\xb3\\x050\\xcc\\x90\\x81\\xf7\\xee\\xba\\xcf\\xc6\\xb3T\\x88a\\x86\\x06l\\x04\\x01\\xe3[\\xeeR\\xdf\\xec\\x00\\x98\\x81%R:\\r\\xd8\\xf68\\x1f\\x8c$C\\xd4`\\xaa%\\x1ap\\xfe\\x9e\\xfc!A\\x05\\xa0\\xc6S-\\xd1\\x80\\xf1\\x14\\x8ejHu<\\xd5\\x12\\r\\xd8\\x1c\\xd2N\\x18\\xd5\\xb4\\xa8O\\xb5D\\x03\\xd6\\xc3\\xf0\\x19\\x18H\\x12TKT\\xe0\\x95\\xdd??5\\nzH\\xb3D\\x03\\x0eu%\\xcf\\x8a\\x9f\\x82I\\xb2\\x9dj\\x89\\nL\\x8bO\\xe2X0f\\xa4\\xd3~\\xa9\\xa1\\x01\\xf89C\\xd0\\x9f\\xf4\\xf4\\x80\\xf8(\\x93\\x06\\x8c\\x1f\\x81\\xa4;\\x16,H\\xb5D\\x03\\xf6\\xb6\\xd6\\x0e\\x98j\\x89\\x06\\xec\\xe4\\x0b\\x82\\r\\x91\\x9eN\\xb5D\\x03\\x0e\\x0c\\x03?sI7\\xcd.\\x083\\xb0DJ\\xa7\\x01\\xa3\\xf4\\xedN\\x89$\\xa04\\x98a\\x86\\x0c\\xdc\\xde)+e \\x15g\\x98!\\x03\\x0f,\\xab[(\\x92l)\\n\\x86\\r\\x98\\xa1\\x16\\'\\x03C\\xa0Y\\xd9\\xa7\\xca\\xa8\\x88\\xe7\\xd9\\xe0\\x00;\\x85\\xc2\\xca\\x9b\\x0c\\x03\\xb0\\xc1\\x18G\\x0e0d\\xce\\xea\\x07afe\\xf7\\xd5\\x90\\x86\\x01\\x06-R\\x98\\xc0\\x03\\xd3\\xba\\xdc\\xaf\\xf1$\\xc5\\xb3.k5\\x18\\xe0\\xd5a\\x02C\\xacU\\xa9\\xae\\xe4\\xc0\\x86hk\\xaf\\xca\\xa3E\\x16\\x1f\\x18\\x93.\\xbe\\x1c\\x1ey\\xdc\\x91\\xe69\\x86\\x1cDE\\xe6{\\x08\\x00g2\\xa3l\\xee\\xd3\\xf1+\\x9f\\xf8}\\x85\\x87\\x8a,\\x08A\\x0e\\xa2\\xec\\nH\\x14\\x02\\x1e\\x9b0\\x8c\\x8f\\'o\\xee\\xd5\\xdfoB\\x02B\\x90\\x13\\xa1\\x95\\x00<f\\xfec\\xc5\\xc9o\\x0bZ\\x89IG\\xf11\\xad\\x8ca\\x953O+\\xd4u\\xcc\\x9a\\xd3\\xa2\\xa8\\xe8\\xf5\\xe5^\\xac\\xf0\\xc0\\xaaY\\xa9~k\\x1c\\xc9\\x9a\\x83)t><\\xea\\x89\\xa6]\\xd6\\xea\\xdd\\xa2}\\xdcj\\x16\\x06\\xf7\\x8fvqW\\\\k\\xeb\\xbc~\\xd0\\xc3\\xac4y/9\\x1d\\x9e\\xfa\\xc14\\xc1\\xeb\\xf2.\\xde\\xff9qv\\x1a\\xb6t\\x01\\xdf\\xfb.j\\xf5\\xb3zC\\xcaa<+\\'\\xaf\\xc3\\xd3\\xaa\\x9avS\\xde\\xc5\\x11\\x9ep6\\xed4\\x0f\\x0b\\xff\\xe7l\\xda\\t\\x01&\\x02\\xdb;\\xf8{1\\xf3\\xa5\\x1f\\x1a\\x87\\x0f\\x9b\\t\\xf9d\\xc3\\xe6\\xcf\\x88\\x7f\\x00\\xff\\xfb\\x1f\\xfc\\xfex\\xce\\xbf\\xe8\\xe5t\\xael\\xf2U\\xd1\\x1b\\x8f\\xe4Jk\\x12\\x99\\x02\\xafI#\\x94\\xd9H;\\xaclh\\xd7\\xa4p\\xda\\xe15i\\x842\\x1bi\\x87\\x95\\r\\xed\\x9a\\x14N;\\xbc&\\x8dPf#\\xed\\xb0\\xb2\\xa1]\\x93\\xc2\\xbf\\x01\\x17\\x1b\\x7f\\xd4_\\xde\\x96P\\x00\\x00\\x00\\x00IEND\\xaeB`\\x82', height='50', width='50')"
      ]
     },
     "metadata": {},
     "output_type": "display_data"
    },
    {
     "data": {
      "application/vnd.jupyter.widget-view+json": {
       "model_id": "1fb7fa22282640a29ae3bbf06f5e6755",
       "version_major": 2,
       "version_minor": 0
      },
      "text/html": [
       "<p>Failed to display Jupyter Widget of type <code>Image</code>.</p>\n",
       "<p>\n",
       "  If you're reading this message in the Jupyter Notebook or JupyterLab Notebook, it may mean\n",
       "  that the widgets JavaScript is still loading. If this message persists, it\n",
       "  likely means that the widgets JavaScript library is either not installed or\n",
       "  not enabled. See the <a href=\"https://ipywidgets.readthedocs.io/en/stable/user_install.html\">Jupyter\n",
       "  Widgets Documentation</a> for setup instructions.\n",
       "</p>\n",
       "<p>\n",
       "  If you're reading this message in another frontend (for example, a static\n",
       "  rendering on GitHub or <a href=\"https://nbviewer.jupyter.org/\">NBViewer</a>),\n",
       "  it may mean that your frontend doesn't currently support widgets.\n",
       "</p>\n"
      ],
      "text/plain": [
       "Image(value=b'\\x89PNG\\r\\n\\x1a\\n\\x00\\x00\\x00\\rIHDR\\x00\\x00\\x00P\\x00\\x00\\x00P\\x08\\x02\\x00\\x00\\x00\\x01se\\xfa\\x00\\x00\\x00\\x01sRGB\\x00\\xae\\xce\\x1c\\xe9\\x00\\x00\\x00\\tpHYs\\x00\\x00\\x04\\x9d\\x00\\x00\\x04\\x9d\\x01|4k\\xa1\\x00\\x00\\x02\\x0biTXtXML:com.adobe.xmp\\x00\\x00\\x00\\x00\\x00<x:xmpmeta xmlns:x=\"adobe:ns:meta/\" x:xmptk=\"XMP Core 5.4.0\">\\n   <rdf:RDF xmlns:rdf=\"http://www.w3.org/1999/02/22-rdf-syntax-ns#\">\\n      <rdf:Description rdf:about=\"\"\\n            xmlns:tiff=\"http://ns.adobe.com/tiff/1.0/\">\\n         <tiff:ResolutionUnit>2</tiff:ResolutionUnit>\\n         <tiff:Compression>5</tiff:Compression>\\n         <tiff:Orientation>1</tiff:Orientation>\\n         <tiff:PhotometricInterpretation>2</tiff:PhotometricInterpretation>\\n      </rdf:Description>\\n   </rdf:RDF>\\n</x:xmpmeta>\\n\\x86\\xd2\\xae$\\x00\\x00\\x04\\x00IDATx\\x01\\xedZ]o\\xd40\\x10\\x8c\\xed\\x84V\\xb4\\x02\\x84\\xa0\\x05\\x01\\x12\\xe2\\x91\\xd7\\xfb\\xff\\xff\\x83\\xa7\\x16\\t\\x84J\\x11\\x15\\x05\\x818\\xeel3\\xe7TQ\\xd4\\xdcAfm\\xe7\\x9a\\xbb\\xdc\\x0b\\xa9\\xd9\\xf5\\xccx\\x13\\x7f\\xed\\xaa\\xd9lV\\xec\\xd3O\\xef\\x93\\xd8\\x95\\xd6I\\xf0\\xaeG|\\x8a\\xf0\\x14\\xe1\\x1d\\x1b\\x81\\xe9\\x95\\xde\\xb1\\x80v\\xe4L\\x11\\xee\\x0c\\xc9\\x8e5L\\x11\\xde\\xb1\\x80v\\xe4L\\x11\\xee\\x0c\\xc9\\x8e5\\x94\\x83\\xe8qJ\\xfd\\xd2\\xea\\xa7R\\xbf\\x95\\x9a\\xab\\xc2\\x16\\xca\\xaep\\xbd\\xf1\\x85\\xf1\\xfe\\xc0\\xfbC\\xe7\\x8f\\xbc\\xbf?\\xc0a&\\xab`\\xa7\\xf57\\xa3\\xaf\\xb4\\xfa\\xae\\x94_3\\xb2\\xaan\\xfbQ\\xff\\xe3\\xbdr\\xfe\\x81u\\x8f\\x9d{\\x94Oy&\\xc1\\x8b\\xd2\\\\\\x1a\\xfdE\\xd5\\x91\\\\\\xa3uM\\x13\\x06\\xc5\\xa8k\\xa3\\xaf\\xbd7\\xd6=]\\xda\\x93\\xa2\\xa8\\xd6\\xd8\\xc55%\\x17\\xec\\x8c\\xfe\\\\\\x9a\\x0b\\xa5\\x9c\\x98\\x18\\x86\\t=\\x18}\\xb9\\xb4\\xcf\\xac;M\\x1b\\xed\\x94\\x82\\xf1\\xa1V\\xe5\\x99Vs\\xb1\\xd4\\xb6#\\x86\\xac*?\\x19\\xffu\\xb1|\\x13>\\xef\\xf6\\x7f\\xca\\x9f\\x93-K\\x08\\xc8\\xbd\\xf2]*\\xb5\\x8d t\\x88n\\xd1y\\xd3\\x12\\xf9\\x90$\\xc2\\xbe4\\x1f\\xf1\\xd1FR\\xd9\\xe4\\x8eo\\xbb*?(;_\\xda\\x97Eq3\\xd1m2\\xfeo{|\\x84}e\\xde\\xe7S\\xdb\\x08\\x00\\x04\\x80\\xb0\\x945-\\xb2\\x87X\\xc1\\x88\\xad1W2l\\xd6\\x0b@\\x80c\\xbdn\\xd9G\\t\\xc6\\xa75@l\\xdb\\x8c\\x01\\x17\\xf9=\\xcb\\x05cN\\x8e\\x1f\\xef\\xb6\\x98\\x9e\\xcf\\x00\\x05tO\\xe3\\xae\\x99X0\\xd6\\x8c\\xb3\\xf5\\xfb\\xa7.H\\xd2\\x960\\x87\\x9d\\x15\\x85p\\x9d\\x17\\n\\xc6\\xee\"\\xf9\\n\\xd4\\x7fX\\x00\\r\\x02\\xfd\\xed\\xdb\\x962\\xc1\\xd89^\\xb4{\\x19\\xfe9\\x10X\\x08p%\\x821s\\xc4\\xec\\x1c\\x05,\\xbb.  \\x9b/\\x05\\x82-N\\x05]\\x06\\xc3\\xb7\\x04\\x1a\\xe1\\x98\\xc9`\\xd3\\x82\\xb5\\xbe\\xa6\\xce@\\x0c\\x19\\xce\\x164@\\x86\\xf3\\x11\\x1cDp\\xbee1\\xf2\\xd9\\x0b\\xc8\\xb0\\x11v8\\xcd\\xe7\\x13\\xc0\\xf6\\x1c\\xc8p\\xeb\\x13\\'\\x18+\\xfeV\\xd6\\xdeM\\x03\\x012\\xec&\\x84\\x13\\x8c{\\xa9M\\xd8\\xdbjg)q\\x82q\\x0b\\xb7-a\\x9bpYJ\\xac\\xe04\\xb7\\x19\\x9b\\xd8\\x0b\\xdaq\\rJy\\x91\\x82q\\xc3z\\xc7~\\xabK_\\xe6\\xc7\\t\\xbe\\xb9Of\\x00\\xb2\\xdb2\\x17\\xa3 C\\n\\xceN?;\\x00)\\xd8\\x9b\\xec\\x8cX\\x00\\x92\\x12\\'\\x18\\x99\\x11\\x96On{\\x96\\x12)\\xd8\\x1f\\xe4\\x16\\xc0\\xf6\\x8f\\xd4\\x14\\xe5\\xc2\\n>\\xa4z\\x1f\\xc0\\x18\\x898\\n\\x85\\x13\\x8c\\x1c\\x1f\\xd5\\xfb\\x00\\xc6,%N0R\\x1e\\xc8\\xf1\\r \\xa3\\'\\x04\\xc8\\xb0Y\\x18N0\\x961d4{\\xb2\\x19\\xc0,\\x90\\xe1$p\\xd6\\xd0\\x80\\xfc\\xed\\x00JzB\\x08\\xc8\\xd0\\x82\\x9d{\\x88\\xfcmOBY\\xcd@#\\xa4\\xce9\\x10ZpQ\\xac\\xb2\\xd5\\x1cH\\x1e\\xeb@\\x83\\xe6O;\\x80<r\\xf3\\xdeK\\x1c\\x13\\n\\x07\\x81P\"@w)\\xe3]!7OC%u\\x08\\x04$\\x05\\x112\\xc1\\x98\\xbaN\\x1d\\xb9\\xc5I\\xa8\\x17\\xd0\\xa1\\x14B\\xd2\\xa5P0\\xd6\\xa7P\\x89\\xb0\\x855\\x19k/\\xa0\\xc5\\xe7<\\xb1\\xe0\\x02+~H\\xc9K\\x869\\xc6\\x07\\xa0\\xecf\\xa3\\r\\'\\x17\\x8c^\\xac;\\x91\\xcd\\x1cm\\x06\\xd43\\xe0\\x00J\\xb9\\xdc2\\x8e\\x12\\x8c\\xbe0\\xde\\xd6\\x0e\\xb4\\x15\\x01P\\xfc;\\x15+\\x18U&\\x0b\\xfbz\\x808\\x03\\x02@\\xf1E-I\\xaax\\xd4\\xd2\\xbe\\xc2\\xb94\\xe4\\xe6c\\x8bNn\\xbd\\x81\\xf8\\x13\\xb3\\xd4\\xea=\\x8a{\\x93\\x9bn\\x93\\x08^\\xf5\\x06B8\\xa9U\\xe5y\\xdaD9V\\xa0\\xb4\\x85i\\xc9\\x04\\x87P\\x1c\\xfdY\\xbc\\x8d/=\\xac\\xa3\\x11\\xf6Rw\\xbb\\xf40\\x10\\xd5\\xd6=\\xb7\\xeeI(\\xb7\\xe1\\x8aKk\\x9da\\xe0\\xc6T\\\\Z\\xd3\\xc6\\xde\\xf3\\x05v\\x7f\\xc8\\xdf\\xfe\\xab|\\xb8\\x91\\x18\\x1e\\xf0\\xad\\x8e\\xb7|\\xb8\\x96\\x82\\xe3\\x1b\\x8a\\x9f\\xb1h\\xedK\\x81x\\x13A\\xed\\xfd\\xb1\\xf5\\xc7\\xcd\\xdf[|\\x88_\\x87\\xb7H^\\x02=\\t\\x96\\x8c\\xda\\x98|\\xa6\\x08\\x8f)Z\\x12\\xaeS\\x84%\\xa36&\\x9f)\\xc2c\\x8a\\x96\\x84\\xeb\\x14a\\xc9\\xa8\\x8d\\xc9g\\x8a\\xf0\\x98\\xa2%\\xe1\\xbaw\\x11\\xfe\\x0briUk#\\x99_j\\x00\\x00\\x00\\x00IEND\\xaeB`\\x82', height='50', width='50')"
      ]
     },
     "metadata": {},
     "output_type": "display_data"
    },
    {
     "data": {
      "application/vnd.jupyter.widget-view+json": {
       "model_id": "6dfc329c00f44ee09952a257e08aa2e0",
       "version_major": 2,
       "version_minor": 0
      },
      "text/html": [
       "<p>Failed to display Jupyter Widget of type <code>Image</code>.</p>\n",
       "<p>\n",
       "  If you're reading this message in the Jupyter Notebook or JupyterLab Notebook, it may mean\n",
       "  that the widgets JavaScript is still loading. If this message persists, it\n",
       "  likely means that the widgets JavaScript library is either not installed or\n",
       "  not enabled. See the <a href=\"https://ipywidgets.readthedocs.io/en/stable/user_install.html\">Jupyter\n",
       "  Widgets Documentation</a> for setup instructions.\n",
       "</p>\n",
       "<p>\n",
       "  If you're reading this message in another frontend (for example, a static\n",
       "  rendering on GitHub or <a href=\"https://nbviewer.jupyter.org/\">NBViewer</a>),\n",
       "  it may mean that your frontend doesn't currently support widgets.\n",
       "</p>\n"
      ],
      "text/plain": [
       "Image(value=b'\\x89PNG\\r\\n\\x1a\\n\\x00\\x00\\x00\\rIHDR\\x00\\x00\\x00P\\x00\\x00\\x00O\\x08\\x02\\x00\\x00\\x00\\xf3\\xf3\\xd5\\xb4\\x00\\x00\\x00\\x01sRGB\\x00\\xae\\xce\\x1c\\xe9\\x00\\x00\\x00\\tpHYs\\x00\\x00\\x04\\x9d\\x00\\x00\\x04\\x9d\\x01|4k\\xa1\\x00\\x00\\x02\\x0biTXtXML:com.adobe.xmp\\x00\\x00\\x00\\x00\\x00<x:xmpmeta xmlns:x=\"adobe:ns:meta/\" x:xmptk=\"XMP Core 5.4.0\">\\n   <rdf:RDF xmlns:rdf=\"http://www.w3.org/1999/02/22-rdf-syntax-ns#\">\\n      <rdf:Description rdf:about=\"\"\\n            xmlns:tiff=\"http://ns.adobe.com/tiff/1.0/\">\\n         <tiff:ResolutionUnit>2</tiff:ResolutionUnit>\\n         <tiff:Compression>5</tiff:Compression>\\n         <tiff:Orientation>1</tiff:Orientation>\\n         <tiff:PhotometricInterpretation>2</tiff:PhotometricInterpretation>\\n      </rdf:Description>\\n   </rdf:RDF>\\n</x:xmpmeta>\\n\\x86\\xd2\\xae$\\x00\\x00\\x04\\x08IDATx\\x01\\xed\\x9a}O\\x1aA\\x10\\xc6woE\\xb0\\xa8\\x88\\xb6\\xd6bjb\\xabi\\xfb\\xb7\\xdf\\xff{\\xb4\\xa9\\xad\\xa9\\xc6\\xc6b}\\x85C\\x11\\xee\\xb6\\x8f\\xbd\\x84\\xe0a\\xc8\\xcd\\xec,\\x9cp\\x86\\x90\\xbbew\\x9e\\xe77so\\xc8\\xe8\\x83\\x83\\x035O\\x7f\\xc1<\\xc1>\\xb2\\x16\\xc0\\xb3^\\xf1\\xa2\\xc2E\\x85g,\\x03\\xc5!=c\\x05\\x1d\\xc1)*<\\x92\\x92\\x19\\x1b(*<c\\x05\\x1d\\xc1\\x99\\xbb\\n/\\x8c\\xa4\\xc0\\xef@d\\xa3H\\xe1\\x15C\\xc6\\xa8\\xc0(c\\xb4\\xf1+\\xf94\\xbaw`\\x10\\xb6l\\xbbe\\xc3\\xd0\\x86]\\xd5\\xed\\xab\\xe8\\xa9\\x01\\xb5\\xa0LY\\x95\\xab\\xba\\xba\\xf2\\xf8Z\\xf6\\xcd\\xef\\x0b\\xd8Z{co/\\xec\\x15\\xde\\xad\\xb2)\\xc8\\xe1]\\xa4\\xa0\\xaf:\\xa1\\xed4\\xed\\xb9V\\xba\\xa6W7t\\x1d\\xefZ\\xeb\\xe1iR\\xdb\\xf2\\xc0@\\x05\\xe7Y\\xdcD=\\xa9.\\x91\\x9ak{\\x83\\x17j\\xbe\\x15l\\x82\\\\\\x1c[\\x18\\xb8m\\xc3\\xe3\\xe8\\xf4N\\xddQQS\\xf3\\x91\\xac_\\xf1IS\\xfd\\xdd1\\xdb\\xcb\\xba\\x9a\\xfa\\xd4e\\xd74\\x1a\\r\\x97\\xf5\\x83\\xb5(\\xec\\xef\\xf8\\x0c.\\xfb\\xaa?\\x18t\\xdc@\\xa8\\x0b{\\x89\\xc88\\xb7\\xa5J-S\\xe1\\xbe\\xed\\x1fFG\\xa1\\xea8\\x12>\\xbb\\xfc\\xcc6[Q{\\xcf\\xec.h\\x01\\xb7\\x02\\xf7\\xe1\\xae\\xed~\\x8d\\x0e=\\xd1&)@pH@\\xe8\\xd9\\x8c\\x90\\x06]\\x81\\x1f\\xec\\xc3\\xb7\\xe8\\x07\\xe3\\xfaDr\\x89\\xc9\\x90\\x80\\x10\\xe4\\xa8\\x0bS\\xf3\\x9d\\x80q$\\x7f\\x8f~\\xf6T/\\x15\\xd4\\xd3.\\x84 \\x07Q\\x97\\xf8|`\\\\K\\x8e\\xe2\\xe3{\\xfa\\xbd\\xc7\\xc5.\\xe4 \\niv\\x10>\\xf0\\x1f{~k[la\\xf6B\\x88B\\x9a\\xbd\\x9c\\t|o\\xbb\\xb8\\t\\xb1U\\x1d\\x17B\\x1a\\x06xA\\x98\\xc0\\'\\xf1\\xe9\\xf8\\x07F\\x9e\\x9b\\x8c\\xab \\r\\x03\\x19\\'\\xa7\\xa6q\\x80\\xf1e`*\\x07\\xf3\\xb0u\\x18\\x80\\x8d\\xe1\\x91\\x8c\\xdb\\x1c`<\\'g\\x8c\\xeeu\\x1a\\xcf\\x06\\x19\\x18\\'\\xcf\\xd4\\xcb\\x9b\\xe4\\x116\\x18g2\\x19\\xf82\\xbe\\xf2Z7Rp\\x86\\x192\\xf0\\x95\\xbd&y\\xf2:\\x99a\\x86\\x06\\xdc\\xb3\\xbd\\t?i\\x8c\\xcf\\x17\\xcc\\xc0\\xd2\\xf89\\xa9Oi\\xc0\\xbc\\x0bcJRv\\x97j\\x89\\x06|g\\xefe\\xed\\xbaG\\xa3Z\\xa2\\x01O\\xe0[\\x115\\x05TK4\\xe0\\x07\\xe2\\tCu\\xcf\\x98O\\xb5D\\x03\\x8e\\xff\\xff?\\x99a\\xcb\\xdf\\x12\\xaa\\xa5\\x02xl-\\x82\\xfcu\\xfdP-\\xd1*L\\x8d>6{2\\x1fR-\\xd1\\x80\\x17uI\\xc6\\xa6\\\\\\x14\\xaa%\\x1a0~\\x10\\x90\\xb3*\\x13\\x89j\\x89\\x06\\xbc\\xa4+26\\xe5\\xa2P-\\xd1\\x80\\xf1\\x0b\\x80\\x9cU\\x99HTK4\\xe0\\x92.U\\xf2tT\\xc3\\x0c,\\x912G\\x03F\\xe8\\xba^#\\tx\\x9d\\xcc0C\\x06^\\x0f\\xea^\\x19H\\xc1\\x19f\\xc8\\xc0\\x15]^\\xd5+$[\\x9e&\\xc3\\x06\\xccP\\x83\\x93\\x81!\\x80\\x9f\\xaa\\xa92>\\xe6\\xf3lp\\x80qa\\x9cz\\x91a\\x80z}N\\x92\\xce\\x01\\xc6\\xca\\xf7\\xc16\\xfa1|\\xd4-KLH\\xc3@\\x96\\x99\\xa3s\\x98\\xc08y\\x1a\\xc1\\xd6h\\xb8\\xc9\\x8c@\\x9aq\\xf6&\\xde\\x98\\xc0X\\xfcV\\xbf\\x99\\xca\\x81\\rQH\\xb33\\xcb\\x07F\\xd3\\xc5n\\xb03\\xe1\\xe7\\x10\\xc8A\\xd4\\xa5\\xdf\\x83\\x0f\\x8c\\x1c\\xa3\\xe9b\\xdf|()\\xda\\xb3\\x0e\\xbb8\\x10\\x82\\x9cc\\xa7\\x87\\x130\\xac/\\xea\\xc5O\\xe6#\\xf5+\\x0b\\x83\\x19\\x12\\x10\\x82\\x1cc\\xed\\xf0\\x12W`\\xc4*\\xeb\\xf2g\\xb3WU\\xaf\\x86\\xe3\\xcan#8$ \\xe4\\x1eV\\xa6O+\\xd0\\xc1\\x86^\\xc7\\xcf\\xb6m\\x15\\xba{JE\\xd8\\xd2\\x9b\\xbbfG\\xaa\\x07S\\xa0\\xf3)\\xf1\\x87\\x0b\\xc9\\xb6yW\\xb3\\xab\"\\x9dxI\\xcc%\\xb5$\\xde\\x89\\'\\x06\\x9cXD\\x9b\\xe0\\x17\\xb3\\xcf\\xee\\xb5\\x1c\\xd4\\x16g\\xec\\xcb\\xe8\\xb5\\x84c\\x94\\xfa\\xb5^G_h\\xc6n\\xda\\x01\\xe4\\xe3\\xda\\x97\\xd8M\\x9b\\x00\\x00{M\\xd7\\xd6Tm^\\xfa\\xa5\\x07u\\xc3\\xc5&!OFf\\xbf#~@\\x9el\\x80\\x1fm\\xff\\xa9\\xc1I\\xee\\n\\xdc\\x87\\'i\\xd7]\\xab\\x00v\\xcfa\\xbe#\\x14\\x15\\xcew}\\xdc\\xdd\\x15\\x15v\\xcfa\\xbe#\\x14\\x15\\xcew}\\xdc\\xdd\\x15\\x15v\\xcfa\\xbe#\\x14\\x15\\xcew}\\xdc\\xdd\\xfd\\x03#\\xb8\\\\5=\\xdcf@\\x00\\x00\\x00\\x00IEND\\xaeB`\\x82', height='50', width='50')"
      ]
     },
     "metadata": {},
     "output_type": "display_data"
    },
    {
     "data": {
      "application/vnd.jupyter.widget-view+json": {
       "model_id": "7fddf9d5dcb94606aafd1c00b54b9032",
       "version_major": 2,
       "version_minor": 0
      },
      "text/html": [
       "<p>Failed to display Jupyter Widget of type <code>Button</code>.</p>\n",
       "<p>\n",
       "  If you're reading this message in the Jupyter Notebook or JupyterLab Notebook, it may mean\n",
       "  that the widgets JavaScript is still loading. If this message persists, it\n",
       "  likely means that the widgets JavaScript library is either not installed or\n",
       "  not enabled. See the <a href=\"https://ipywidgets.readthedocs.io/en/stable/user_install.html\">Jupyter\n",
       "  Widgets Documentation</a> for setup instructions.\n",
       "</p>\n",
       "<p>\n",
       "  If you're reading this message in another frontend (for example, a static\n",
       "  rendering on GitHub or <a href=\"https://nbviewer.jupyter.org/\">NBViewer</a>),\n",
       "  it may mean that your frontend doesn't currently support widgets.\n",
       "</p>\n"
      ],
      "text/plain": [
       "Button(description='Switch', style=ButtonStyle())"
      ]
     },
     "metadata": {},
     "output_type": "display_data"
    },
    {
     "data": {
      "application/vnd.jupyter.widget-view+json": {
       "model_id": "780034b46f7748b39f0335d64b4a1d8a",
       "version_major": 2,
       "version_minor": 0
      },
      "text/html": [
       "<p>Failed to display Jupyter Widget of type <code>Button</code>.</p>\n",
       "<p>\n",
       "  If you're reading this message in the Jupyter Notebook or JupyterLab Notebook, it may mean\n",
       "  that the widgets JavaScript is still loading. If this message persists, it\n",
       "  likely means that the widgets JavaScript library is either not installed or\n",
       "  not enabled. See the <a href=\"https://ipywidgets.readthedocs.io/en/stable/user_install.html\">Jupyter\n",
       "  Widgets Documentation</a> for setup instructions.\n",
       "</p>\n",
       "<p>\n",
       "  If you're reading this message in another frontend (for example, a static\n",
       "  rendering on GitHub or <a href=\"https://nbviewer.jupyter.org/\">NBViewer</a>),\n",
       "  it may mean that your frontend doesn't currently support widgets.\n",
       "</p>\n"
      ],
      "text/plain": [
       "Button(description='Terminate', style=ButtonStyle())"
      ]
     },
     "metadata": {},
     "output_type": "display_data"
    },
    {
     "ename": "AttributeError",
     "evalue": "'Machine' object has no attribute 'scheduler'",
     "output_type": "error",
     "traceback": [
      "\u001b[0;31m---------------------------------------------------------------------------\u001b[0m",
      "\u001b[0;31mAttributeError\u001b[0m                            Traceback (most recent call last)",
      "\u001b[0;32m<ipython-input-1-0c5f0bce7543>\u001b[0m in \u001b[0;36mon_button_terminate\u001b[0;34m(self, b)\u001b[0m\n\u001b[1;32m     17\u001b[0m \u001b[0;34m\u001b[0m\u001b[0m\n\u001b[1;32m     18\u001b[0m     \u001b[0;32mdef\u001b[0m \u001b[0mon_button_terminate\u001b[0m\u001b[0;34m(\u001b[0m\u001b[0mself\u001b[0m\u001b[0;34m,\u001b[0m \u001b[0mb\u001b[0m\u001b[0;34m)\u001b[0m\u001b[0;34m:\u001b[0m\u001b[0;34m\u001b[0m\u001b[0m\n\u001b[0;32m---> 19\u001b[0;31m         \u001b[0mself\u001b[0m\u001b[0;34m.\u001b[0m\u001b[0mstm\u001b[0m\u001b[0;34m.\u001b[0m\u001b[0mscheduler\u001b[0m\u001b[0;34m.\u001b[0m\u001b[0mstop\u001b[0m\u001b[0;34m(\u001b[0m\u001b[0;34m)\u001b[0m\u001b[0;34m\u001b[0m\u001b[0m\n\u001b[0m\u001b[1;32m     20\u001b[0m \u001b[0;34m\u001b[0m\u001b[0m\n\u001b[1;32m     21\u001b[0m     \u001b[0;32mdef\u001b[0m \u001b[0mdisplay\u001b[0m\u001b[0;34m(\u001b[0m\u001b[0mself\u001b[0m\u001b[0;34m)\u001b[0m\u001b[0;34m:\u001b[0m\u001b[0;34m\u001b[0m\u001b[0m\n",
      "\u001b[0;31mAttributeError\u001b[0m: 'Machine' object has no attribute 'scheduler'"
     ]
    }
   ],
   "source": [
    "traffic = TrafficLight()\n",
    "\n",
    "t0 = {'source': 'initial',\n",
    "      'target': 'off'}\n",
    "\n",
    "t1 = {'trigger':'switch',\n",
    "      'source':'off',\n",
    "      'target':'red',\n",
    "      'effect':'turn_red_on'\n",
    "}\n",
    "t2 = {'trigger':'switch', \n",
    "      'source':'red', \n",
    "      'target':'red_yellow', \n",
    "      'effect':'turn_yellow_on'\n",
    "}\n",
    "t3 = {'trigger':'switch', \n",
    "      'source':'red_yellow', \n",
    "      'target':'green', \n",
    "      'effect':'turn_red_off; turn_yellow_off; turn_green_on'\n",
    "}\n",
    "t4 = {'trigger':'switch', \n",
    "      'source':'green', \n",
    "      'target':'yellow', \n",
    "      'effect':'turn_green_off; turn_yellow_on'\n",
    "}\n",
    "t5 = {'trigger':'switch', \n",
    "      'source':'yellow', \n",
    "      'target':'red', \n",
    "      'effect':'turn_yellow_off; turn_red_on'\n",
    "}\n",
    "stm_traffic = Machine(name='stm_traffic', transitions=[t0, t1, t2, t3, t4, t5], obj=traffic)\n",
    "traffic.stm = stm_traffic\n",
    "\n",
    "driver = Driver()\n",
    "driver.add_machine(stm_traffic)\n",
    "driver.start()"
   ]
  },
  {
   "cell_type": "markdown",
   "metadata": {},
   "source": [
    "# Task 1: Create a Diagram\n",
    "\n",
    "Create a state machine diagram of the traffic light above.\n",
    "\n",
    "# Task 2: Use Entry and Exit Actions\n",
    "\n",
    "Create another version of the state machine that uses states with entry and exit actions."
   ]
  },
  {
   "cell_type": "code",
   "execution_count": null,
   "metadata": {
    "collapsed": true
   },
   "outputs": [],
   "source": []
  }
 ],
 "metadata": {
  "kernelspec": {
   "display_name": "Python 3",
   "language": "python",
   "name": "python3"
  },
  "language_info": {
   "codemirror_mode": {
    "name": "ipython",
    "version": 3
   },
   "file_extension": ".py",
   "mimetype": "text/x-python",
   "name": "python",
   "nbconvert_exporter": "python",
   "pygments_lexer": "ipython3",
   "version": "3.6.4"
  }
 },
 "nbformat": 4,
 "nbformat_minor": 2
}
