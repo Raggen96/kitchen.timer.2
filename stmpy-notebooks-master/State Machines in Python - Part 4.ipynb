{
 "cells": [
  {
   "cell_type": "markdown",
   "metadata": {},
   "source": [
    "# State Machines in Python - Part 4\n",
    "\n",
    "Have a look at the state machine below. It includes a transition with a decision inside. Depending on a coin toss, the transition either ends in state `heads` or `tails`. How should we implement such a transition? \n",
    "\n",
    "- The transitions we have seen so far all had a static target state, determined by the dict that defined it.\n",
    "- The choice may depend on all sorts of functions or variables. In the diagram we just write 'toss a coin', but in the Python code we want to code that as a convenient if-statement."
   ]
  },
  {
   "cell_type": "markdown",
   "metadata": {},
   "source": [
    "<img src=\"data:image/png;base64,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\" style=\"max-width:100%;\" />"
   ]
  },
  {
   "cell_type": "markdown",
   "metadata": {},
   "source": [
    "We create the code for the state machine below. See the dict `t1` that is a **compound transition**. Instead of declaring a target state in the dict, it refers to a function. When you look at the function, you see that it implements the decision and returns a string that declares the next state. "
   ]
  },
  {
   "cell_type": "code",
   "execution_count": 1,
   "metadata": {},
   "outputs": [
    {
     "data": {
      "application/vnd.jupyter.widget-view+json": {
       "model_id": "c87b0271f3e74e5d889f3c541b2540af",
       "version_major": 2,
       "version_minor": 0
      },
      "text/html": [
       "<p>Failed to display Jupyter Widget of type <code>Text</code>.</p>\n",
       "<p>\n",
       "  If you're reading this message in the Jupyter Notebook or JupyterLab Notebook, it may mean\n",
       "  that the widgets JavaScript is still loading. If this message persists, it\n",
       "  likely means that the widgets JavaScript library is either not installed or\n",
       "  not enabled. See the <a href=\"https://ipywidgets.readthedocs.io/en/stable/user_install.html\">Jupyter\n",
       "  Widgets Documentation</a> for setup instructions.\n",
       "</p>\n",
       "<p>\n",
       "  If you're reading this message in another frontend (for example, a static\n",
       "  rendering on GitHub or <a href=\"https://nbviewer.jupyter.org/\">NBViewer</a>),\n",
       "  it may mean that your frontend doesn't currently support widgets.\n",
       "</p>\n"
      ],
      "text/plain": [
       "Text(value='', description='String:', placeholder='')"
      ]
     },
     "metadata": {},
     "output_type": "display_data"
    },
    {
     "data": {
      "application/vnd.jupyter.widget-view+json": {
       "model_id": "01cb140a2b954b34847a669df4e91d15",
       "version_major": 2,
       "version_minor": 0
      },
      "text/html": [
       "<p>Failed to display Jupyter Widget of type <code>Button</code>.</p>\n",
       "<p>\n",
       "  If you're reading this message in the Jupyter Notebook or JupyterLab Notebook, it may mean\n",
       "  that the widgets JavaScript is still loading. If this message persists, it\n",
       "  likely means that the widgets JavaScript library is either not installed or\n",
       "  not enabled. See the <a href=\"https://ipywidgets.readthedocs.io/en/stable/user_install.html\">Jupyter\n",
       "  Widgets Documentation</a> for setup instructions.\n",
       "</p>\n",
       "<p>\n",
       "  If you're reading this message in another frontend (for example, a static\n",
       "  rendering on GitHub or <a href=\"https://nbviewer.jupyter.org/\">NBViewer</a>),\n",
       "  it may mean that your frontend doesn't currently support widgets.\n",
       "</p>\n"
      ],
      "text/plain": [
       "Button(description='Flip', style=ButtonStyle())"
      ]
     },
     "metadata": {},
     "output_type": "display_data"
    }
   ],
   "source": [
    "from stmpy import Machine, Driver\n",
    "\n",
    "import ipywidgets as widgets\n",
    "from IPython.display import display\n",
    "\n",
    "import random\n",
    "\n",
    "class CoinFlip:\n",
    "    \n",
    "    def on_button_flip(self, b):\n",
    "        self.stm.send_signal('flip') # <---- here we send a signal\n",
    "            \n",
    "    def __init__(self):\n",
    "        # display the user interface\n",
    "        # a button\n",
    "        self.button_flip = widgets.Button(description=\"Flip\")\n",
    "        self.button_flip.on_click(self.on_button_flip)\n",
    "        \n",
    "        # text field\n",
    "        self.text = widgets.Text(value='', placeholder='', description='String:', disabled=False)\n",
    "        display(self.text, self.button_flip)\n",
    "    \n",
    "    def on_spinning(self):\n",
    "        self.text.set_trait(name='value', value='spinning...')\n",
    "\n",
    "    def on_heads(self):\n",
    "        self.text.set_trait(name='value', value='Heads!')\n",
    "        \n",
    "    def on_tails(self):\n",
    "        self.text.set_trait(name='value', value='Tails!')\n",
    "            \n",
    "    def start_timer(self):\n",
    "        # start the timer\n",
    "        self.stm.start_timer('t', 1000)\n",
    "    \n",
    "    # Code for the compound transition:\n",
    "    def flip_compound_transition(self):\n",
    "        coin = random.randint(1,2)\n",
    "        if coin==1:\n",
    "            return 'heads'\n",
    "        else:\n",
    "            return 'tails'\n",
    "\n",
    "        \n",
    "coin_flip = CoinFlip()\n",
    "        \n",
    "# initial transition\n",
    "t0 = {'source': 'initial',\n",
    "      'target': 'spinning'}\n",
    "\n",
    "# compound transition\n",
    "t1 = {'trigger':'flip',\n",
    "      'source':'spinning',\n",
    "      'function': coin_flip.flip_compound_transition}\n",
    "\n",
    "# the other two regular transitions:\n",
    "t2 = {'trigger':'t', \n",
    "      'source':'heads', \n",
    "      'target':'spinning'}\n",
    "t3 = {'trigger':'t', \n",
    "      'source':'tails', \n",
    "      'target':'spinning'}\n",
    "\n",
    "# the states:\n",
    "spinning = {'name': 'spinning',\n",
    "            'entry': 'on_spinning'}\n",
    "\n",
    "heads = {'name': 'heads',\n",
    "        'entry': 'on_heads;start_timer'}\n",
    "\n",
    "tails = {'name': 'tails',\n",
    "        'entry': 'on_tails;start_timer'}\n",
    "\n",
    "\n",
    "# Change 4: We pass the set of states to the state machine\n",
    "machine = Machine(name='coin_flip', transitions=[t0, t1, t2, t3], obj=coin_flip, states=[spinning, heads, tails])\n",
    "coin_flip.stm = machine\n",
    "\n",
    "driver = Driver()\n",
    "driver.add_machine(machine)\n",
    "driver.start()"
   ]
  },
  {
   "cell_type": "markdown",
   "metadata": {},
   "source": [
    "## Run the Machine\n",
    "\n",
    "Of course, run the cell above and study the behavior. "
   ]
  },
  {
   "cell_type": "code",
   "execution_count": null,
   "metadata": {},
   "outputs": [],
   "source": []
  }
 ],
 "metadata": {
  "kernelspec": {
   "display_name": "Python 3",
   "language": "python",
   "name": "python3"
  },
  "language_info": {
   "codemirror_mode": {
    "name": "ipython",
    "version": 3
   },
   "file_extension": ".py",
   "mimetype": "text/x-python",
   "name": "python",
   "nbconvert_exporter": "python",
   "pygments_lexer": "ipython3",
   "version": "3.6.4"
  }
 },
 "nbformat": 4,
 "nbformat_minor": 2
}
